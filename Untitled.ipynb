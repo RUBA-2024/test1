{
 "cells": [
  {
   "cell_type": "code",
   "execution_count": null,
   "id": "6a58ed3d",
   "metadata": {},
   "outputs": [],
   "source": [
    "import pandas as pd\n",
    "import numpy as np\n",
    "import matplotlib.pyplot as plt\n",
    "%matplotlib inline\n",
    "import seaborn as sns\n"
   ]
  },
  {
   "cell_type": "code",
   "execution_count": 1,
   "id": "e9e86994",
   "metadata": {},
   "outputs": [
    {
     "name": "stdout",
     "output_type": "stream",
     "text": [
      "Requirement already satisfied: dask[complete] in c:\\users\\rbaa9\\anaconda3\\lib\\site-packages (2022.7.0)\n",
      "Requirement already satisfied: pyyaml>=5.3.1 in c:\\users\\rbaa9\\anaconda3\\lib\\site-packages (from dask[complete]) (6.0)\n",
      "Requirement already satisfied: cloudpickle>=1.1.1 in c:\\users\\rbaa9\\anaconda3\\lib\\site-packages (from dask[complete]) (2.0.0)\n",
      "Requirement already satisfied: fsspec>=0.6.0 in c:\\users\\rbaa9\\anaconda3\\lib\\site-packages (from dask[complete]) (2022.7.1)\n",
      "Requirement already satisfied: packaging>=20.0 in c:\\users\\rbaa9\\anaconda3\\lib\\site-packages (from dask[complete]) (21.3)\n",
      "Requirement already satisfied: toolz>=0.8.2 in c:\\users\\rbaa9\\anaconda3\\lib\\site-packages (from dask[complete]) (0.11.2)\n",
      "Requirement already satisfied: partd>=0.3.10 in c:\\users\\rbaa9\\anaconda3\\lib\\site-packages (from dask[complete]) (1.2.0)\n",
      "Requirement already satisfied: numpy>=1.18 in c:\\users\\rbaa9\\anaconda3\\lib\\site-packages (from dask[complete]) (1.21.5)\n",
      "Requirement already satisfied: distributed==2022.7.0 in c:\\users\\rbaa9\\anaconda3\\lib\\site-packages (from dask[complete]) (2022.7.0)\n",
      "Requirement already satisfied: bokeh>=2.4.2 in c:\\users\\rbaa9\\anaconda3\\lib\\site-packages (from dask[complete]) (2.4.3)\n",
      "Requirement already satisfied: pandas>=1.0 in c:\\users\\rbaa9\\anaconda3\\lib\\site-packages (from dask[complete]) (1.4.4)\n",
      "Requirement already satisfied: jinja2 in c:\\users\\rbaa9\\anaconda3\\lib\\site-packages (from dask[complete]) (2.11.3)\n",
      "Requirement already satisfied: sortedcontainers!=2.0.0,!=2.0.1 in c:\\users\\rbaa9\\anaconda3\\lib\\site-packages (from distributed==2022.7.0->dask[complete]) (2.4.0)\n",
      "Requirement already satisfied: zict>=0.1.3 in c:\\users\\rbaa9\\anaconda3\\lib\\site-packages (from distributed==2022.7.0->dask[complete]) (2.1.0)\n",
      "Requirement already satisfied: locket>=1.0.0 in c:\\users\\rbaa9\\anaconda3\\lib\\site-packages (from distributed==2022.7.0->dask[complete]) (1.0.0)\n",
      "Requirement already satisfied: psutil>=5.0 in c:\\users\\rbaa9\\anaconda3\\lib\\site-packages (from distributed==2022.7.0->dask[complete]) (5.9.0)\n",
      "Requirement already satisfied: tblib>=1.6.0 in c:\\users\\rbaa9\\anaconda3\\lib\\site-packages (from distributed==2022.7.0->dask[complete]) (1.7.0)\n",
      "Requirement already satisfied: urllib3 in c:\\users\\rbaa9\\anaconda3\\lib\\site-packages (from distributed==2022.7.0->dask[complete]) (1.26.11)\n",
      "Requirement already satisfied: tornado<6.2,>=6.0.3 in c:\\users\\rbaa9\\anaconda3\\lib\\site-packages (from distributed==2022.7.0->dask[complete]) (6.1)\n",
      "Requirement already satisfied: click>=6.6 in c:\\users\\rbaa9\\anaconda3\\lib\\site-packages (from distributed==2022.7.0->dask[complete]) (8.0.4)\n",
      "Requirement already satisfied: msgpack>=0.6.0 in c:\\users\\rbaa9\\anaconda3\\lib\\site-packages (from distributed==2022.7.0->dask[complete]) (1.0.3)\n",
      "Requirement already satisfied: pillow>=7.1.0 in c:\\users\\rbaa9\\anaconda3\\lib\\site-packages (from bokeh>=2.4.2->dask[complete]) (9.2.0)\n",
      "Requirement already satisfied: typing-extensions>=3.10.0 in c:\\users\\rbaa9\\anaconda3\\lib\\site-packages (from bokeh>=2.4.2->dask[complete]) (4.3.0)\n",
      "Requirement already satisfied: MarkupSafe>=0.23 in c:\\users\\rbaa9\\anaconda3\\lib\\site-packages (from jinja2->dask[complete]) (2.0.1)\n",
      "Requirement already satisfied: pyparsing!=3.0.5,>=2.0.2 in c:\\users\\rbaa9\\anaconda3\\lib\\site-packages (from packaging>=20.0->dask[complete]) (3.0.9)\n",
      "Requirement already satisfied: pytz>=2020.1 in c:\\users\\rbaa9\\anaconda3\\lib\\site-packages (from pandas>=1.0->dask[complete]) (2022.1)\n",
      "Requirement already satisfied: python-dateutil>=2.8.1 in c:\\users\\rbaa9\\anaconda3\\lib\\site-packages (from pandas>=1.0->dask[complete]) (2.8.2)\n",
      "Requirement already satisfied: colorama in c:\\users\\rbaa9\\anaconda3\\lib\\site-packages (from click>=6.6->distributed==2022.7.0->dask[complete]) (0.4.5)\n",
      "Requirement already satisfied: six>=1.5 in c:\\users\\rbaa9\\anaconda3\\lib\\site-packages (from python-dateutil>=2.8.1->pandas>=1.0->dask[complete]) (1.16.0)\n",
      "Requirement already satisfied: heapdict in c:\\users\\rbaa9\\anaconda3\\lib\\site-packages (from zict>=0.1.3->distributed==2022.7.0->dask[complete]) (1.0.1)\n",
      "Note: you may need to restart the kernel to use updated packages.\n"
     ]
    }
   ],
   "source": [
    "pip install dask[complete]"
   ]
  },
  {
   "cell_type": "code",
   "execution_count": null,
   "id": "53c29e93",
   "metadata": {},
   "outputs": [],
   "source": [
    "df = pd.read_csv(\"Clean_Dataset.csv\")\n",
    "df"
   ]
  },
  {
   "cell_type": "markdown",
   "id": "82ab5c7f",
   "metadata": {},
   "source": [
    "# Data Exploration\n"
   ]
  },
  {
   "cell_type": "code",
   "execution_count": null,
   "id": "2c58c21d",
   "metadata": {},
   "outputs": [],
   "source": [
    "df.head()"
   ]
  },
  {
   "cell_type": "code",
   "execution_count": null,
   "id": "9d4d6ba2",
   "metadata": {},
   "outputs": [],
   "source": [
    "df.tail()"
   ]
  },
  {
   "cell_type": "markdown",
   "id": "4c747105",
   "metadata": {},
   "source": [
    " take random sample from dataset\n"
   ]
  },
  {
   "cell_type": "code",
   "execution_count": null,
   "id": "960310db",
   "metadata": {},
   "outputs": [],
   "source": [
    "df.sample(10)"
   ]
  },
  {
   "cell_type": "code",
   "execution_count": null,
   "id": "7ba1d934",
   "metadata": {},
   "outputs": [],
   "source": [
    "df.shape\n"
   ]
  },
  {
   "cell_type": "markdown",
   "id": "4340227e",
   "metadata": {},
   "source": [
    "# information about dataset\n"
   ]
  },
  {
   "cell_type": "code",
   "execution_count": null,
   "id": "5b7b4d8d",
   "metadata": {},
   "outputs": [],
   "source": [
    "df.info()\n"
   ]
  },
  {
   "cell_type": "markdown",
   "id": "ded4c40c",
   "metadata": {},
   "source": [
    "# Data Cleaning\n"
   ]
  },
  {
   "cell_type": "code",
   "execution_count": null,
   "id": "611c4c8b",
   "metadata": {},
   "outputs": [],
   "source": [
    "df.isnull().sum()\n"
   ]
  },
  {
   "cell_type": "code",
   "execution_count": null,
   "id": "f66513b5",
   "metadata": {},
   "outputs": [],
   "source": [
    "df.duplicated().sum()"
   ]
  },
  {
   "cell_type": "markdown",
   "id": "d36639b5",
   "metadata": {},
   "source": [
    " to drop row or column or multiple rows or columns\n"
   ]
  },
  {
   "cell_type": "code",
   "execution_count": null,
   "id": "388d8694",
   "metadata": {},
   "outputs": [],
   "source": [
    "df.drop('Unnamed: 0',axis = 1 , inplace = True)"
   ]
  },
  {
   "cell_type": "markdown",
   "id": "7cfdb27e",
   "metadata": {},
   "source": [
    " to know total number of unique values in each column in our dataframe\n"
   ]
  },
  {
   "cell_type": "code",
   "execution_count": null,
   "id": "90681f27",
   "metadata": {},
   "outputs": [],
   "source": [
    "df.nunique()\n"
   ]
  },
  {
   "cell_type": "code",
   "execution_count": null,
   "id": "97cec02d",
   "metadata": {},
   "outputs": [],
   "source": [
    "df.head()\n"
   ]
  },
  {
   "cell_type": "markdown",
   "id": "6a01bf9e",
   "metadata": {},
   "source": [
    " to know statistical description for Numerical columns\n"
   ]
  },
  {
   "cell_type": "code",
   "execution_count": null,
   "id": "275dc144",
   "metadata": {},
   "outputs": [],
   "source": [
    "df.describe().T"
   ]
  },
  {
   "cell_type": "code",
   "execution_count": null,
   "id": "5be9287b",
   "metadata": {},
   "outputs": [],
   "source": [
    "df.describe(include = 'O').T"
   ]
  },
  {
   "cell_type": "markdown",
   "id": "2e13bf36",
   "metadata": {},
   "source": [
    "# Check Distributions for Numerical Columns"
   ]
  },
  {
   "cell_type": "code",
   "execution_count": null,
   "id": "f15a1875",
   "metadata": {},
   "outputs": [],
   "source": [
    "plt.figure(figsize = (10,6))\n",
    "sns.histplot(data=df, x=\"duration\" , kde = 'dist')"
   ]
  },
  {
   "cell_type": "markdown",
   "id": "1ae441e1",
   "metadata": {},
   "source": [
    "Note: number of passengers decrease when duration of flight increase\n"
   ]
  },
  {
   "cell_type": "code",
   "execution_count": null,
   "id": "07b6913a",
   "metadata": {},
   "outputs": [],
   "source": [
    "plt.figure(figsize = (10,6))\n",
    "sns.histplot(data=df, x=\"days_left\")"
   ]
  },
  {
   "cell_type": "markdown",
   "id": "9cdedbef",
   "metadata": {},
   "source": [
    " Note: most of passengers book the tickets before thier flight trip interval between [50,10] days\n"
   ]
  },
  {
   "cell_type": "code",
   "execution_count": null,
   "id": "b09cd70b",
   "metadata": {},
   "outputs": [],
   "source": [
    "plt.figure(figsize = (10,6))\n",
    "sns.displot(data=df, x=\"price\" , kde = 'hist')"
   ]
  },
  {
   "cell_type": "markdown",
   "id": "fef2352d",
   "metadata": {},
   "source": [
    "Note: we have a passengers thier tickets more than 20000 so we want to know what the class they are belong and thier airline"
   ]
  },
  {
   "cell_type": "code",
   "execution_count": null,
   "id": "b3f5e81b",
   "metadata": {},
   "outputs": [],
   "source": [
    "fig, (ax1, ax2, ax3) = plt.subplots(1,3, figsize=(21,7))\n",
    "sns.boxplot(data=df, y=\"duration\" , color ='#FF8000' , ax = ax1)\n",
    "sns.boxplot(data=df, y=\"days_left\" , color ='#FF3333', ax = ax2)\n",
    "sns.boxplot(data=df, y=\"price\" , color ='#009900', ax = ax3)\n",
    "for ax in plt.gcf().axes:\n",
    "    l = ax.get_ylabel()\n",
    "    ax.set_ylabel(l, fontsize=15)\n",
    "plt.show()"
   ]
  },
  {
   "cell_type": "markdown",
   "id": "ff059199",
   "metadata": {},
   "source": [
    "Note: we notice we have outliers in duration and price columns\n"
   ]
  },
  {
   "cell_type": "markdown",
   "id": "5dde016c",
   "metadata": {},
   "source": [
    "# Questions\n"
   ]
  },
  {
   "cell_type": "markdown",
   "id": "8d7d38cf",
   "metadata": {},
   "source": [
    "# 1.what is the ratio between Bussiness and Economy?\n"
   ]
  },
  {
   "cell_type": "code",
   "execution_count": null,
   "id": "b262653a",
   "metadata": {},
   "outputs": [],
   "source": [
    "round((df['class'].value_counts()/df.shape[0])*100,1)"
   ]
  },
  {
   "cell_type": "code",
   "execution_count": null,
   "id": "c384de0c",
   "metadata": {},
   "outputs": [],
   "source": [
    "colors = sns.color_palette(\"ch:start=.2,rot=-.3\")[0:5]\n",
    "plt.figure (figsize=(10,7))\n",
    "plt.pie(round((df['class'].value_counts()/df.shape[0])*100,1), labels = df['class'].unique(), colors = colors, autopct='%.0f%%')\n",
    "plt.show()"
   ]
  },
  {
   "cell_type": "markdown",
   "id": "607a83e8",
   "metadata": {},
   "source": [
    "Note: most of passengers that books ticket are Economy Class\n"
   ]
  },
  {
   "cell_type": "markdown",
   "id": "e45ccb49",
   "metadata": {},
   "source": [
    "# 2.- which class that i get more profit from it?\n"
   ]
  },
  {
   "cell_type": "code",
   "execution_count": null,
   "id": "7f2d360d",
   "metadata": {
    "scrolled": true
   },
   "outputs": [],
   "source": [
    "sns.set(style=\"whitegrid\")\n",
    "sns.displot(data=df, x=\"price\", hue=\"class\" , kind = \"hist\")"
   ]
  },
  {
   "cell_type": "markdown",
   "id": "d65fa5e8",
   "metadata": {},
   "source": [
    "Note: that tickets with high price Bussiness passengers book it so profit comes from bussiness greater than Economy"
   ]
  },
  {
   "cell_type": "markdown",
   "id": "dee0987f",
   "metadata": {},
   "source": [
    "# 3.what is the ratio between different airlines?\n"
   ]
  },
  {
   "cell_type": "code",
   "execution_count": null,
   "id": "81a2b59e",
   "metadata": {},
   "outputs": [],
   "source": [
    "df1 = round((df['airline'].value_counts()/df.shape[0])*100,1)\n",
    "df1"
   ]
  },
  {
   "cell_type": "code",
   "execution_count": null,
   "id": "bfe927b3",
   "metadata": {},
   "outputs": [],
   "source": [
    "colors = sns.color_palette(\"Spectral\")[0:25]\n",
    "my_circle=plt.Circle( (0,0), 0.7, color='white')\n",
    "plt.figure (figsize=(10,7))\n",
    "plt.pie(df1, labels =df1.index, colors = colors, autopct='%.0f%%')\n",
    "p = plt.gcf()\n",
    "p.gca().add_artist(my_circle)\n",
    "plt.show()"
   ]
  },
  {
   "cell_type": "markdown",
   "id": "beeeb24b",
   "metadata": {},
   "source": [
    " Note: the top 2 airlines are Vistara and air-india and least airline is Spicejet\n"
   ]
  },
  {
   "cell_type": "markdown",
   "id": "d6238412",
   "metadata": {},
   "source": [
    "# 4.what is the ratio between different arrival_time and different departure_time?\n"
   ]
  },
  {
   "cell_type": "code",
   "execution_count": null,
   "id": "ab18fd52",
   "metadata": {},
   "outputs": [],
   "source": [
    "df2 = round((df['departure_time'].value_counts()/df.shape[0])*100,1)\n",
    "df2\n"
   ]
  },
  {
   "cell_type": "code",
   "execution_count": null,
   "id": "c6698f5c",
   "metadata": {},
   "outputs": [],
   "source": [
    "colors = sns.color_palette(\"Spectral\")[0:25]\n",
    "plt.figure (figsize=(10,7))\n",
    "plt.pie(df2,labels=df2.index, colors = colors, autopct='%1.1f%%',\n",
    "        shadow=True, startangle=90)\n",
    "plt.title('ratio between different Departure_time')"
   ]
  },
  {
   "cell_type": "code",
   "execution_count": null,
   "id": "d7d45c87",
   "metadata": {},
   "outputs": [],
   "source": [
    "df3 = round((df['arrival_time'].value_counts()/df.shape[0])*100,1)\n",
    "df3"
   ]
  },
  {
   "cell_type": "code",
   "execution_count": null,
   "id": "8a6c9d6c",
   "metadata": {},
   "outputs": [],
   "source": [
    "colors = sns.color_palette(\"coolwarm\")[0:25]\n",
    "plt.figure (figsize=(10,7))\n",
    "plt.pie(df3,labels=df3.index, colors = colors, autopct='%1.1f%%',\n",
    "        shadow=True, startangle=90 )\n",
    "plt.title('ratio between different Arrival_time')\n",
    "plt.show()"
   ]
  },
  {
   "cell_type": "markdown",
   "id": "a1976eea",
   "metadata": {},
   "source": [
    "Note: Most of passengers their departure_time is Morning and arrival_time is Night\n"
   ]
  },
  {
   "cell_type": "markdown",
   "id": "c14bd011",
   "metadata": {},
   "source": [
    "# 5. Is the ticket price affected by the number of stops between source and destination cities ?\n"
   ]
  },
  {
   "cell_type": "code",
   "execution_count": null,
   "id": "3c58021e",
   "metadata": {},
   "outputs": [],
   "source": [
    "df.groupby('stops')['price'].mean()\n"
   ]
  },
  {
   "cell_type": "code",
   "execution_count": null,
   "id": "e2a426ff",
   "metadata": {},
   "outputs": [],
   "source": [
    "plt.figure(figsize=(6, 4))\n",
    "sns.barplot(x='stops', y='price', data=df)\n",
    "plt.xlabel('Number of Stops')\n",
    "plt.ylabel('Average Price')\n",
    "plt.title('number of stops VS Ticket price')\n",
    "plt.show()"
   ]
  },
  {
   "cell_type": "markdown",
   "id": "c9346845",
   "metadata": {},
   "source": [
    "Note:from the above graph and the result before , we get that for zero stops , the flights price is cheaper than if there is two or more stops , and it's more expensive for one-stop flights."
   ]
  },
  {
   "cell_type": "markdown",
   "id": "a6695c5e",
   "metadata": {},
   "source": [
    "# 6. Which airline is most used?\n"
   ]
  },
  {
   "cell_type": "code",
   "execution_count": null,
   "id": "e6bb315e",
   "metadata": {},
   "outputs": [],
   "source": [
    "df['airline'].value_counts()"
   ]
  },
  {
   "cell_type": "code",
   "execution_count": null,
   "id": "3ff1c002",
   "metadata": {},
   "outputs": [],
   "source": [
    "airline_counts = df['airline'].value_counts()\n",
    "sizes = airline_counts.values\n",
    "labels = airline_counts.index\n",
    "plt.pie(x=sizes,labels=labels,autopct='%1.1f%%',startangle=60)\n",
    "plt.axis('equal')\n",
    "plt.show()"
   ]
  },
  {
   "cell_type": "markdown",
   "id": "058acf66",
   "metadata": {},
   "source": [
    " According to above pie, we see that Vistara airline is most used by 42.6%\n",
    "\n"
   ]
  },
  {
   "cell_type": "markdown",
   "id": "699f0973",
   "metadata": {},
   "source": [
    "# 7.From which city do most flights depart?\n"
   ]
  },
  {
   "cell_type": "code",
   "execution_count": null,
   "id": "e875bbd5",
   "metadata": {},
   "outputs": [],
   "source": [
    "src_city_cnts = df.source_city.value_counts()\n",
    "src_city_cnts = pd.DataFrame(src_city_cnts).reset_index()\n",
    "src_city_cnts.columns = ['city','count']\n",
    "src_city_cnts"
   ]
  },
  {
   "cell_type": "code",
   "execution_count": null,
   "id": "d73fc0e2",
   "metadata": {},
   "outputs": [],
   "source": [
    "plt.figure(figsize=(9,6))\n",
    "fig = sns.barplot(x='city',y='count',data=src_city_cnts,palette='Set2')\n",
    "plt.show(fig)\n",
    "plt.close('all')\n",
    "del fig\n"
   ]
  },
  {
   "cell_type": "markdown",
   "id": "39ff6d33",
   "metadata": {},
   "source": [
    "Most of the flights originate from either Delhi or Mumbai.\n",
    "\n"
   ]
  },
  {
   "cell_type": "markdown",
   "id": "cd9b763f",
   "metadata": {},
   "source": [
    "# 8.How is the price affected when tickets are bought in just 1 or 2 days before departure?"
   ]
  },
  {
   "cell_type": "code",
   "execution_count": null,
   "id": "4db2d45e",
   "metadata": {},
   "outputs": [],
   "source": [
    "df_temp = df.groupby(['days_left'])['price'].mean().reset_index()\n",
    "\n",
    "plt.figure(figsize=(15,6))\n",
    "ax = sns.lineplot(x=\"days_left\", y=\"price\", data=df_temp).set_title(\"Average prices depending on the days left\",fontsize=15)"
   ]
  },
  {
   "cell_type": "markdown",
   "id": "a650fdb4",
   "metadata": {},
   "source": [
    "as we can see here the price is very expensive when registration is in 2 days before the trip\n",
    "\n"
   ]
  },
  {
   "cell_type": "markdown",
   "id": "91a9e317",
   "metadata": {},
   "source": [
    "# 9.Does price vary with Airlines?\n"
   ]
  },
  {
   "cell_type": "code",
   "execution_count": null,
   "id": "9d0f5c03",
   "metadata": {},
   "outputs": [],
   "source": [
    "plt.figure(figsize=(15, 5))\n",
    "sns.barplot(x='airline', y='price', data=df, palette='hls')\n",
    "plt.title('Airlines Vs Average Price', fontsize=15)\n",
    "plt.xlabel('Airline', fontsize=15)\n",
    "plt.ylabel('Average Price', fontsize=15)\n",
    "plt.xticks(rotation=45)  \n",
    "plt.show()"
   ]
  },
  {
   "cell_type": "markdown",
   "id": "118b4450",
   "metadata": {},
   "source": [
    "Vistara and Air_India Airlines Have Maximum Price when compared to Others\n",
    "\n",
    "so yes the price vary with Airlines"
   ]
  },
  {
   "cell_type": "code",
   "execution_count": null,
   "id": "178915a4",
   "metadata": {},
   "outputs": [],
   "source": [
    "df.corr()['price']"
   ]
  },
  {
   "cell_type": "code",
   "execution_count": null,
   "id": "e74a58ef",
   "metadata": {},
   "outputs": [],
   "source": [
    "sns.heatmap(df.iloc[:,2:12].corr(), annot = True)\n",
    "plt.title (\"Visualizing correlation\")\n",
    "plt.show"
   ]
  },
  {
   "cell_type": "markdown",
   "id": "c71283b0",
   "metadata": {},
   "source": [
    "# 10. what are the peak hours for Departure?\n",
    "\n"
   ]
  },
  {
   "cell_type": "code",
   "execution_count": null,
   "id": "11f18c0a",
   "metadata": {},
   "outputs": [],
   "source": [
    "sns.displot(x=df['departure_time'], data=df, kde=True).fig.set_figwidth(10)\n"
   ]
  },
  {
   "cell_type": "markdown",
   "id": "f88ea4d3",
   "metadata": {},
   "source": [
    "Most flights' departure time: Morning\n",
    "\n"
   ]
  },
  {
   "cell_type": "code",
   "execution_count": null,
   "id": "1651803d",
   "metadata": {},
   "outputs": [],
   "source": [
    "from sklearn.linear_model import LinearRegression\n",
    "from sklearn.model_selection import train_test_split\n",
    "from sklearn.metrics import r2_score\n",
    "\n",
    "\n"
   ]
  },
  {
   "cell_type": "code",
   "execution_count": null,
   "id": "ea1e301d",
   "metadata": {},
   "outputs": [],
   "source": [
    "y_pred=ln.predict(X_test)"
   ]
  },
  {
   "cell_type": "code",
   "execution_count": null,
   "id": "ce35318d",
   "metadata": {},
   "outputs": [],
   "source": [
    "df_2['airline'] = df_2['airline'].astype('category')\n",
    "df_2['source_city'] = df_2['source_city'].astype('category')\n",
    "df_2['departure_time'] = df_2['departure_time'].astype('category')\n",
    "df_2['stops'] = df_2['stops'].astype('category')\n",
    "df_2['arrival_time'] = df_2['arrival_time'].astype('category')\n",
    "df_2['destination_city'] = df_2['destination_city'].astype('category')\n",
    "df_2['class'] = df_2['class'].astype('category')\n",
    "print(\"Formatted Data Types\\n\",df_2.dtypes)"
   ]
  },
  {
   "cell_type": "code",
   "execution_count": null,
   "id": "58c0163f",
   "metadata": {},
   "outputs": [],
   "source": [
    "df_2 = pd.get_dummies(df_2,prefix_sep='_',drop_first=True)\n",
    "df_2.head()"
   ]
  },
  {
   "cell_type": "code",
   "execution_count": null,
   "id": "9fb01bf0",
   "metadata": {},
   "outputs": [],
   "source": [
    "x = df_2.drop('price', axis= 1)\n",
    "y = df_2['price']\n",
    "\n",
    "x_train, x_test, y_train, y_test = train_test_split(x,y, test_size= 0.2, random_state= 32)"
   ]
  },
  {
   "cell_type": "code",
   "execution_count": null,
   "id": "327d2246",
   "metadata": {},
   "outputs": [],
   "source": [
    "print('length of training set', len(x_train))\n",
    "print('length of testing set', len(x_test))"
   ]
  },
  {
   "cell_type": "code",
   "execution_count": null,
   "id": "f4bac1ed",
   "metadata": {},
   "outputs": [],
   "source": [
    "\n",
    "linear_r = LinearRegression()\n",
    "linear_r.fit(x_train, y_train)"
   ]
  },
  {
   "cell_type": "code",
   "execution_count": null,
   "id": "587809e6",
   "metadata": {},
   "outputs": [],
   "source": [
    "print('---Linear Regression---')\n",
    "test_pred_l = linear_r.predict(x_test) # predicting test data\n",
    "train_pred_l = linear_r.predict(x_train) # predicting train data\n",
    "\n",
    "print(\"Model Intercept\", (linear_r.intercept_).round(3))\n",
    "print(\"Model Score on train data\", ((r2_score(y_train, train_pred_l)*100).round(3)),'%')\n",
    "print(\"Model Score on test data\", ((r2_score(y_test,test_pred_l)*100).round(3)),'%')"
   ]
  },
  {
   "cell_type": "markdown",
   "id": "70e75d5a",
   "metadata": {},
   "source": [
    "From the results above, we can tell that the model hasn't over fitted because there is very little difference beteen the scores on the test data and train data"
   ]
  },
  {
   "cell_type": "code",
   "execution_count": null,
   "id": "6b9eda2c",
   "metadata": {},
   "outputs": [],
   "source": [
    "score = ln.score(X_test, Y_test)\n",
    "mse = mean_squared_error(Y_test, y_pred)\n",
    "r2_score = r2_score(Y_test, y_pred)\n",
    "\n",
    "\n",
    "print(\"Accuracy of Model: \",score)\n",
    "print(\"MSE: \",mse)\n",
    "print(\"R-Squared: \",r2_score)\n",
    "\n",
    "import statsmodels.api as sm\n",
    "from scipy import stats\n",
    "\n",
    "\n",
    "x2 = sm.add_constant(X_train)\n",
    "est = sm.OLS(Y_train , x2)\n",
    "est2 = est.fit()\n",
    "print(est2.summary())\n"
   ]
  }
 ],
 "metadata": {
  "kernelspec": {
   "display_name": "Python 3 (ipykernel)",
   "language": "python",
   "name": "python3"
  },
  "language_info": {
   "codemirror_mode": {
    "name": "ipython",
    "version": 3
   },
   "file_extension": ".py",
   "mimetype": "text/x-python",
   "name": "python",
   "nbconvert_exporter": "python",
   "pygments_lexer": "ipython3",
   "version": "3.9.13"
  }
 },
 "nbformat": 4,
 "nbformat_minor": 5
}
